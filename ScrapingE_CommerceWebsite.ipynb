{
  "nbformat": 4,
  "nbformat_minor": 0,
  "metadata": {
    "colab": {
      "name": "ScrapingE-CommerceWebsite.ipynb",
      "provenance": [],
      "collapsed_sections": [],
      "authorship_tag": "ABX9TyO9/AUE/LKzQZd99i/XwWTw",
      "include_colab_link": true
    },
    "kernelspec": {
      "name": "python3",
      "display_name": "Python 3"
    },
    "language_info": {
      "name": "python"
    },
    "accelerator": "GPU",
    "gpuClass": "standard"
  },
  "cells": [
    {
      "cell_type": "markdown",
      "metadata": {
        "id": "view-in-github",
        "colab_type": "text"
      },
      "source": [
        "<a href=\"https://colab.research.google.com/github/aligad1999/Scraping-E-Commerce-Website/blob/main/ScrapingE_CommerceWebsite.ipynb\" target=\"_parent\"><img src=\"https://colab.research.google.com/assets/colab-badge.svg\" alt=\"Open In Colab\"/></a>"
      ]
    },
    {
      "cell_type": "code",
      "execution_count": 2,
      "metadata": {
        "colab": {
          "base_uri": "https://localhost:8080/"
        },
        "id": "-2U735IjNUc6",
        "outputId": "61c644ea-737a-4da0-b29a-e940d239d808"
      },
      "outputs": [
        {
          "output_type": "stream",
          "name": "stdout",
          "text": [
            "Looking in indexes: https://pypi.org/simple, https://us-python.pkg.dev/colab-wheels/public/simple/\n",
            "Requirement already satisfied: beautifulsoup4 in /usr/local/lib/python3.7/dist-packages (4.6.3)\n",
            "Looking in indexes: https://pypi.org/simple, https://us-python.pkg.dev/colab-wheels/public/simple/\n",
            "Requirement already satisfied: requests in /usr/local/lib/python3.7/dist-packages (2.23.0)\n",
            "Requirement already satisfied: idna<3,>=2.5 in /usr/local/lib/python3.7/dist-packages (from requests) (2.10)\n",
            "Requirement already satisfied: chardet<4,>=3.0.2 in /usr/local/lib/python3.7/dist-packages (from requests) (3.0.4)\n",
            "Requirement already satisfied: urllib3!=1.25.0,!=1.25.1,<1.26,>=1.21.1 in /usr/local/lib/python3.7/dist-packages (from requests) (1.24.3)\n",
            "Requirement already satisfied: certifi>=2017.4.17 in /usr/local/lib/python3.7/dist-packages (from requests) (2022.6.15)\n",
            "Looking in indexes: https://pypi.org/simple, https://us-python.pkg.dev/colab-wheels/public/simple/\n",
            "Requirement already satisfied: pandas in /usr/local/lib/python3.7/dist-packages (1.3.5)\n",
            "Requirement already satisfied: python-dateutil>=2.7.3 in /usr/local/lib/python3.7/dist-packages (from pandas) (2.8.2)\n",
            "Requirement already satisfied: numpy>=1.17.3 in /usr/local/lib/python3.7/dist-packages (from pandas) (1.21.6)\n",
            "Requirement already satisfied: pytz>=2017.3 in /usr/local/lib/python3.7/dist-packages (from pandas) (2022.1)\n",
            "Requirement already satisfied: six>=1.5 in /usr/local/lib/python3.7/dist-packages (from python-dateutil>=2.7.3->pandas) (1.15.0)\n"
          ]
        }
      ],
      "source": [
        "!pip install beautifulsoup4 \n",
        "!pip install requests\n",
        "!pip install pandas"
      ]
    },
    {
      "cell_type": "markdown",
      "source": [
        "libraries"
      ],
      "metadata": {
        "id": "6xfUHHB5awz3"
      }
    },
    {
      "cell_type": "code",
      "source": [
        "from typing import ItemsView\n",
        "import requests\n",
        "from bs4 import BeautifulSoup as bs\n",
        "from random import randint\n",
        "from time import sleep"
      ],
      "metadata": {
        "id": "QFF_YOgcZDwx"
      },
      "execution_count": null,
      "outputs": []
    },
    {
      "cell_type": "markdown",
      "source": [
        "Get Request Status Code"
      ],
      "metadata": {
        "id": "IXoDEI5RZIA_"
      }
    },
    {
      "cell_type": "code",
      "source": [
        "def is200(link,  area):\n",
        "  link+=\"?areaId=\"+str(area)+\"&#/\"\n",
        "  r = requests.get(link)\n",
        "  return r.status_code"
      ],
      "metadata": {
        "id": "9gmefDi9ZB-4"
      },
      "execution_count": null,
      "outputs": []
    },
    {
      "cell_type": "markdown",
      "source": [
        "Sleeping when the item list is Muliple of 20"
      ],
      "metadata": {
        "id": "qYm7weBtZbY5"
      }
    },
    {
      "cell_type": "code",
      "source": [
        "def isMultiple(num,  check_with):\n",
        "\treturn num % check_with == 0;"
      ],
      "metadata": {
        "id": "f3LwiwsBZZio"
      },
      "execution_count": null,
      "outputs": []
    },
    {
      "cell_type": "markdown",
      "source": [
        "listing products"
      ],
      "metadata": {
        "id": "CAF9WknrZPtJ"
      }
    },
    {
      "cell_type": "code",
      "source": [
        "link_list = []\n",
        "def GetItemsLink(Link,NoOfPages):\n",
        "  for i in range(1,NoOfPages):\n",
        "    URL = f'{Link}&page={i}#/'\n",
        "    r = requests.get(URL)\n",
        "    soup = bs(r.content, 'html.parser')  \n",
        "    item = soup.find_all('div', class_='col-xl-3 col-xl-55 col-lg-4 col-md-6 col-6 slide px-2 px-md-3 sp-product border-top pb-2 pt-3 mix White item')\n",
        "    print('Page:',i)\n",
        "    for link in item:\n",
        "      for link in link.find_all('a',href=True):\n",
        "        link_list.append(link['href'])\n",
        "        print(link['href'])\n",
        "\n"
      ],
      "metadata": {
        "id": "F9laF0kiNaE5"
      },
      "execution_count": null,
      "outputs": []
    },
    {
      "cell_type": "markdown",
      "source": [
        "# Scapping all items from the list"
      ],
      "metadata": {
        "id": "-QfHlZNBZz9A"
      }
    },
    {
      "cell_type": "code",
      "source": [
        "AllScrapeditemslist=[]\n",
        "def Scap(link,area):\n",
        "  link+=\"?areaId=\"+str(area)+\"&#/\"\n",
        "  r = requests.get(link)\n",
        "  soup = bs(r.content, 'html.parser')\n",
        "  print('status_code ',r.status_code)\n",
        "  if(r.status_code==200):\n",
        "    name=soup.find('h1',class_='mt-0 title h3').text.strip()\n",
        "    sku=soup.find('span',class_='gray-clr').text.strip()\n",
        "    cate=soup.find('a',class_='border-bottom border-bottom-dark mr-2 semi').text.strip()\n",
        "    img = soup.find(\"meta\",  property=\"og:image\")\n",
        "    \n",
        "    image=str(img[\"content\"])\n",
        "    print(image)\n",
        "    print(link)\n",
        "\n",
        "    items={\n",
        "        'Title':name,\n",
        "        'SKU':sku,\n",
        "        'Cate':cate,\n",
        "        'Image':image,\n",
        "        'Link':link\n",
        "    }\n",
        "    AllScrapeditemslist.append(items)\n",
        "\n",
        "    if (isMultiple(len(AllScrapeditemslist), 20) == True):\n",
        "      print('List = ',len(AllScrapeditemslist))\n",
        "      print('Sleeping...')\n",
        "      sleep(8)"
      ],
      "metadata": {
        "id": "YvGWr2G8Zp-Q"
      },
      "execution_count": null,
      "outputs": []
    },
    {
      "cell_type": "code",
      "source": [
        "Items_link_list = set()\n",
        "\n",
        "for item in link_list:\n",
        "  Items_link_list.add(item)\n"
      ],
      "metadata": {
        "id": "qTRTiMMsv_yK"
      },
      "execution_count": null,
      "outputs": []
    },
    {
      "cell_type": "code",
      "source": [
        "len(Items_link_list)"
      ],
      "metadata": {
        "colab": {
          "base_uri": "https://localhost:8080/"
        },
        "id": "Gomobq4DwymB",
        "outputId": "d62a7a9e-0c46-4a1a-93ad-0f4938cdd4f4"
      },
      "execution_count": null,
      "outputs": [
        {
          "output_type": "execute_result",
          "data": {
            "text/plain": [
              "1137"
            ]
          },
          "metadata": {},
          "execution_count": 27
        }
      ]
    },
    {
      "cell_type": "code",
      "source": [
        "\n",
        "for link in Items_link_list:\n",
        "  if(is200(link,202)==200):\n",
        "    Scap(link,202)\n",
        "  else:\n",
        "    if((is200(link,200)==200)):\n",
        "      Scap(link,200)\n",
        "  "
      ],
      "metadata": {
        "id": "dChjVob_Ocqj"
      },
      "execution_count": null,
      "outputs": []
    },
    {
      "cell_type": "code",
      "source": [
        "print(len(AllScrapeditemslist))"
      ],
      "metadata": {
        "colab": {
          "base_uri": "https://localhost:8080/"
        },
        "id": "owSCVhfPe9EH",
        "outputId": "d5bf5f28-b293-4ae8-b8e9-e29b4a2f7293"
      },
      "execution_count": null,
      "outputs": [
        {
          "output_type": "stream",
          "name": "stdout",
          "text": [
            "1118\n"
          ]
        }
      ]
    },
    {
      "cell_type": "code",
      "source": [
        "import pandas as pd \n",
        "df = pd.DataFrame(AllScrapeditemslist) \n",
        "df = df.drop_duplicates(subset=['SKU'], keep=False)\n",
        "df"
      ],
      "metadata": {
        "colab": {
          "base_uri": "https://localhost:8080/",
          "height": 641
        },
        "id": "5ihaSJiWev3y",
        "outputId": "138481d7-534e-4c83-e2f2-f394a5ffac17"
      },
      "execution_count": null,
      "outputs": [
        {
          "output_type": "execute_result",
          "data": {
            "text/plain": [
              "                                                  Title                SKU  \\\n",
              "0     معجون أسنان كومبليت 8 بخلاصة الفحم من سيجنال -...  Spinneys # 381241   \n",
              "1           بدي سبراي اتركشن فورس من فا للرجال - 150 مل  Spinneys # 285589   \n",
              "2     سبراى فا مضاد للعرق برائحة النعناع والبرغموت -...  Spinneys # 367058   \n",
              "3     جونسون صابون سائل لليدين مضاد للبكتيريا بزهر ا...  Spinneys # 382043   \n",
              "4                   بوبانا جل استحمام سحر الشرق - 500مل  Spinneys # 369433   \n",
              "...                                                 ...                ...   \n",
              "1113  كريم صبغة الشعر مكثفة طويلة الأمد ميتالك كوليك...  Spinneys # 159475   \n",
              "1114             مقشر الذهب المرطب من بيو لوكس - 500 مل  Spinneys # 337269   \n",
              "1115  كريم فيراند لافلى مرطب للوجه متطور متعدد الفيت...  Spinneys # 323946   \n",
              "1116            دابرفاتكا حمام كريم تغذية مكثفة - 500جم  Spinneys # 259843   \n",
              "1117     صابون للايدى بيرز بخلاصة زهور الليمون - 250 مل  Spinneys # 385374   \n",
              "\n",
              "                        Cate  \\\n",
              "0           العناية بالأسنان   \n",
              "1     العناية الشخصية للرجال   \n",
              "2     العناية الشخصية للنساء   \n",
              "3                    الصابون   \n",
              "4                 غسول الجسم   \n",
              "...                      ...   \n",
              "1113   منتجات العناية بالشعر   \n",
              "1114   العناية بالجلد والجسم   \n",
              "1115   العناية بالجلد والجسم   \n",
              "1116   منتجات العناية بالشعر   \n",
              "1117                 الصابون   \n",
              "\n",
              "                                                  Image  \\\n",
              "0     https://www.spinneys-egypt.com/storage/product...   \n",
              "1     https://www.spinneys-egypt.com/storage/product...   \n",
              "2     https://www.spinneys-egypt.com/storage/product...   \n",
              "3     https://www.spinneys-egypt.com/storage/product...   \n",
              "4     https://www.spinneys-egypt.com/storage/product...   \n",
              "...                                                 ...   \n",
              "1113  https://www.spinneys-egypt.com/storage/product...   \n",
              "1114  https://www.spinneys-egypt.com/storage/product...   \n",
              "1115  https://www.spinneys-egypt.com/storage/product...   \n",
              "1116  https://www.spinneys-egypt.com/storage/product...   \n",
              "1117  https://www.spinneys-egypt.com/storage/product...   \n",
              "\n",
              "                                               Link  \n",
              "0     https://spinneys-egypt.com/ar/products/381241  \n",
              "1     https://spinneys-egypt.com/ar/products/285589  \n",
              "2     https://spinneys-egypt.com/ar/products/367058  \n",
              "3     https://spinneys-egypt.com/ar/products/382043  \n",
              "4     https://spinneys-egypt.com/ar/products/369433  \n",
              "...                                             ...  \n",
              "1113  https://spinneys-egypt.com/ar/products/159475  \n",
              "1114  https://spinneys-egypt.com/ar/products/337269  \n",
              "1115  https://spinneys-egypt.com/ar/products/323946  \n",
              "1116  https://spinneys-egypt.com/ar/products/259843  \n",
              "1117  https://spinneys-egypt.com/ar/products/385374  \n",
              "\n",
              "[1118 rows x 5 columns]"
            ],
            "text/html": [
              "\n",
              "  <div id=\"df-7fb092c9-6582-4fc7-ab68-376a4b9a938b\">\n",
              "    <div class=\"colab-df-container\">\n",
              "      <div>\n",
              "<style scoped>\n",
              "    .dataframe tbody tr th:only-of-type {\n",
              "        vertical-align: middle;\n",
              "    }\n",
              "\n",
              "    .dataframe tbody tr th {\n",
              "        vertical-align: top;\n",
              "    }\n",
              "\n",
              "    .dataframe thead th {\n",
              "        text-align: right;\n",
              "    }\n",
              "</style>\n",
              "<table border=\"1\" class=\"dataframe\">\n",
              "  <thead>\n",
              "    <tr style=\"text-align: right;\">\n",
              "      <th></th>\n",
              "      <th>Title</th>\n",
              "      <th>SKU</th>\n",
              "      <th>Cate</th>\n",
              "      <th>Image</th>\n",
              "      <th>Link</th>\n",
              "    </tr>\n",
              "  </thead>\n",
              "  <tbody>\n",
              "    <tr>\n",
              "      <th>0</th>\n",
              "      <td>معجون أسنان كومبليت 8 بخلاصة الفحم من سيجنال -...</td>\n",
              "      <td>Spinneys # 381241</td>\n",
              "      <td>العناية بالأسنان</td>\n",
              "      <td>https://www.spinneys-egypt.com/storage/product...</td>\n",
              "      <td>https://spinneys-egypt.com/ar/products/381241</td>\n",
              "    </tr>\n",
              "    <tr>\n",
              "      <th>1</th>\n",
              "      <td>بدي سبراي اتركشن فورس من فا للرجال - 150 مل</td>\n",
              "      <td>Spinneys # 285589</td>\n",
              "      <td>العناية الشخصية للرجال</td>\n",
              "      <td>https://www.spinneys-egypt.com/storage/product...</td>\n",
              "      <td>https://spinneys-egypt.com/ar/products/285589</td>\n",
              "    </tr>\n",
              "    <tr>\n",
              "      <th>2</th>\n",
              "      <td>سبراى فا مضاد للعرق برائحة النعناع والبرغموت -...</td>\n",
              "      <td>Spinneys # 367058</td>\n",
              "      <td>العناية الشخصية للنساء</td>\n",
              "      <td>https://www.spinneys-egypt.com/storage/product...</td>\n",
              "      <td>https://spinneys-egypt.com/ar/products/367058</td>\n",
              "    </tr>\n",
              "    <tr>\n",
              "      <th>3</th>\n",
              "      <td>جونسون صابون سائل لليدين مضاد للبكتيريا بزهر ا...</td>\n",
              "      <td>Spinneys # 382043</td>\n",
              "      <td>الصابون</td>\n",
              "      <td>https://www.spinneys-egypt.com/storage/product...</td>\n",
              "      <td>https://spinneys-egypt.com/ar/products/382043</td>\n",
              "    </tr>\n",
              "    <tr>\n",
              "      <th>4</th>\n",
              "      <td>بوبانا جل استحمام سحر الشرق - 500مل</td>\n",
              "      <td>Spinneys # 369433</td>\n",
              "      <td>غسول الجسم</td>\n",
              "      <td>https://www.spinneys-egypt.com/storage/product...</td>\n",
              "      <td>https://spinneys-egypt.com/ar/products/369433</td>\n",
              "    </tr>\n",
              "    <tr>\n",
              "      <th>...</th>\n",
              "      <td>...</td>\n",
              "      <td>...</td>\n",
              "      <td>...</td>\n",
              "      <td>...</td>\n",
              "      <td>...</td>\n",
              "    </tr>\n",
              "    <tr>\n",
              "      <th>1113</th>\n",
              "      <td>كريم صبغة الشعر مكثفة طويلة الأمد ميتالك كوليك...</td>\n",
              "      <td>Spinneys # 159475</td>\n",
              "      <td>منتجات العناية بالشعر</td>\n",
              "      <td>https://www.spinneys-egypt.com/storage/product...</td>\n",
              "      <td>https://spinneys-egypt.com/ar/products/159475</td>\n",
              "    </tr>\n",
              "    <tr>\n",
              "      <th>1114</th>\n",
              "      <td>مقشر الذهب المرطب من بيو لوكس - 500 مل</td>\n",
              "      <td>Spinneys # 337269</td>\n",
              "      <td>العناية بالجلد والجسم</td>\n",
              "      <td>https://www.spinneys-egypt.com/storage/product...</td>\n",
              "      <td>https://spinneys-egypt.com/ar/products/337269</td>\n",
              "    </tr>\n",
              "    <tr>\n",
              "      <th>1115</th>\n",
              "      <td>كريم فيراند لافلى مرطب للوجه متطور متعدد الفيت...</td>\n",
              "      <td>Spinneys # 323946</td>\n",
              "      <td>العناية بالجلد والجسم</td>\n",
              "      <td>https://www.spinneys-egypt.com/storage/product...</td>\n",
              "      <td>https://spinneys-egypt.com/ar/products/323946</td>\n",
              "    </tr>\n",
              "    <tr>\n",
              "      <th>1116</th>\n",
              "      <td>دابرفاتكا حمام كريم تغذية مكثفة - 500جم</td>\n",
              "      <td>Spinneys # 259843</td>\n",
              "      <td>منتجات العناية بالشعر</td>\n",
              "      <td>https://www.spinneys-egypt.com/storage/product...</td>\n",
              "      <td>https://spinneys-egypt.com/ar/products/259843</td>\n",
              "    </tr>\n",
              "    <tr>\n",
              "      <th>1117</th>\n",
              "      <td>صابون للايدى بيرز بخلاصة زهور الليمون - 250 مل</td>\n",
              "      <td>Spinneys # 385374</td>\n",
              "      <td>الصابون</td>\n",
              "      <td>https://www.spinneys-egypt.com/storage/product...</td>\n",
              "      <td>https://spinneys-egypt.com/ar/products/385374</td>\n",
              "    </tr>\n",
              "  </tbody>\n",
              "</table>\n",
              "<p>1118 rows × 5 columns</p>\n",
              "</div>\n",
              "      <button class=\"colab-df-convert\" onclick=\"convertToInteractive('df-7fb092c9-6582-4fc7-ab68-376a4b9a938b')\"\n",
              "              title=\"Convert this dataframe to an interactive table.\"\n",
              "              style=\"display:none;\">\n",
              "        \n",
              "  <svg xmlns=\"http://www.w3.org/2000/svg\" height=\"24px\"viewBox=\"0 0 24 24\"\n",
              "       width=\"24px\">\n",
              "    <path d=\"M0 0h24v24H0V0z\" fill=\"none\"/>\n",
              "    <path d=\"M18.56 5.44l.94 2.06.94-2.06 2.06-.94-2.06-.94-.94-2.06-.94 2.06-2.06.94zm-11 1L8.5 8.5l.94-2.06 2.06-.94-2.06-.94L8.5 2.5l-.94 2.06-2.06.94zm10 10l.94 2.06.94-2.06 2.06-.94-2.06-.94-.94-2.06-.94 2.06-2.06.94z\"/><path d=\"M17.41 7.96l-1.37-1.37c-.4-.4-.92-.59-1.43-.59-.52 0-1.04.2-1.43.59L10.3 9.45l-7.72 7.72c-.78.78-.78 2.05 0 2.83L4 21.41c.39.39.9.59 1.41.59.51 0 1.02-.2 1.41-.59l7.78-7.78 2.81-2.81c.8-.78.8-2.07 0-2.86zM5.41 20L4 18.59l7.72-7.72 1.47 1.35L5.41 20z\"/>\n",
              "  </svg>\n",
              "      </button>\n",
              "      \n",
              "  <style>\n",
              "    .colab-df-container {\n",
              "      display:flex;\n",
              "      flex-wrap:wrap;\n",
              "      gap: 12px;\n",
              "    }\n",
              "\n",
              "    .colab-df-convert {\n",
              "      background-color: #E8F0FE;\n",
              "      border: none;\n",
              "      border-radius: 50%;\n",
              "      cursor: pointer;\n",
              "      display: none;\n",
              "      fill: #1967D2;\n",
              "      height: 32px;\n",
              "      padding: 0 0 0 0;\n",
              "      width: 32px;\n",
              "    }\n",
              "\n",
              "    .colab-df-convert:hover {\n",
              "      background-color: #E2EBFA;\n",
              "      box-shadow: 0px 1px 2px rgba(60, 64, 67, 0.3), 0px 1px 3px 1px rgba(60, 64, 67, 0.15);\n",
              "      fill: #174EA6;\n",
              "    }\n",
              "\n",
              "    [theme=dark] .colab-df-convert {\n",
              "      background-color: #3B4455;\n",
              "      fill: #D2E3FC;\n",
              "    }\n",
              "\n",
              "    [theme=dark] .colab-df-convert:hover {\n",
              "      background-color: #434B5C;\n",
              "      box-shadow: 0px 1px 3px 1px rgba(0, 0, 0, 0.15);\n",
              "      filter: drop-shadow(0px 1px 2px rgba(0, 0, 0, 0.3));\n",
              "      fill: #FFFFFF;\n",
              "    }\n",
              "  </style>\n",
              "\n",
              "      <script>\n",
              "        const buttonEl =\n",
              "          document.querySelector('#df-7fb092c9-6582-4fc7-ab68-376a4b9a938b button.colab-df-convert');\n",
              "        buttonEl.style.display =\n",
              "          google.colab.kernel.accessAllowed ? 'block' : 'none';\n",
              "\n",
              "        async function convertToInteractive(key) {\n",
              "          const element = document.querySelector('#df-7fb092c9-6582-4fc7-ab68-376a4b9a938b');\n",
              "          const dataTable =\n",
              "            await google.colab.kernel.invokeFunction('convertToInteractive',\n",
              "                                                     [key], {});\n",
              "          if (!dataTable) return;\n",
              "\n",
              "          const docLinkHtml = 'Like what you see? Visit the ' +\n",
              "            '<a target=\"_blank\" href=https://colab.research.google.com/notebooks/data_table.ipynb>data table notebook</a>'\n",
              "            + ' to learn more about interactive tables.';\n",
              "          element.innerHTML = '';\n",
              "          dataTable['output_type'] = 'display_data';\n",
              "          await google.colab.output.renderOutput(dataTable, element);\n",
              "          const docLink = document.createElement('div');\n",
              "          docLink.innerHTML = docLinkHtml;\n",
              "          element.appendChild(docLink);\n",
              "        }\n",
              "      </script>\n",
              "    </div>\n",
              "  </div>\n",
              "  "
            ]
          },
          "metadata": {},
          "execution_count": 31
        }
      ]
    },
    {
      "cell_type": "code",
      "source": [
        "df.to_excel(r'Items.xlsx',encoding='cp1252',index=False)"
      ],
      "metadata": {
        "id": "je8OHI2bev-R"
      },
      "execution_count": null,
      "outputs": []
    },
    {
      "cell_type": "code",
      "source": [
        ""
      ],
      "metadata": {
        "id": "TL2UU37mewBZ"
      },
      "execution_count": null,
      "outputs": []
    },
    {
      "cell_type": "code",
      "source": [
        ""
      ],
      "metadata": {
        "id": "LgRB82nvewEY"
      },
      "execution_count": null,
      "outputs": []
    },
    {
      "cell_type": "code",
      "source": [
        ""
      ],
      "metadata": {
        "id": "W3no5Nraglns"
      },
      "execution_count": null,
      "outputs": []
    }
  ]
}